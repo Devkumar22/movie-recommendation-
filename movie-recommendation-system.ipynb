{
 "metadata": {
  "language_info": {
   "codemirror_mode": {
    "name": "ipython",
    "version": 3
   },
   "file_extension": ".py",
   "mimetype": "text/x-python",
   "name": "python",
   "nbconvert_exporter": "python",
   "pygments_lexer": "ipython3",
   "version": 3
  },
  "orig_nbformat": 2
 },
 "nbformat": 4,
 "nbformat_minor": 2,
 "cells": [
  {
   "cell_type": "code",
   "execution_count": null,
   "metadata": {},
   "outputs": [],
   "source": [
    "from sklearn.feature_extraction.text import CountVectorizer\n",
    "from sklearn.metrics.pairwise import cosine_similarity\n",
    "text = [\"london paris london\",\"paris,paris,london\"]\n",
    "cv = CountVectorizer()\n",
    "count_mat = cv.fit_transform(text)\n",
    "count_mat.toarray()\n",
    "similarity = cosine_similarity(count_mat)\n",
    "similarity"
   ]
  },
  {
   "cell_type": "code",
   "execution_count": null,
   "metadata": {},
   "outputs": [],
   "source": [
    "import pandas as pd\n",
    "\n",
    "dt=pd.read_csv(\"movie_dataset.csv\")\n",
    "dt.head(3)"
   ]
  },
  {
   "cell_type": "code",
   "execution_count": null,
   "metadata": {},
   "outputs": [],
   "source": [
    "import pandas as pd \n",
    "import numpy as np\n",
    "from sklearn.feature_extraction.text import CountVectorizer\n",
    "from sklearn.metrics.pairwise import cosine_similarity\n",
    "\n",
    "def title_from_index(index):\n",
    "    return df[df.index == index][\"title\"].values[0]\n",
    "def index_from_title(title):\n",
    "    return df[df.title == title][\"index\"].values[0]\n",
    "\n",
    "df = pd.read_csv(\"/movie_dataset.csv\")\n",
    "\n",
    "features = ['keywords', 'cast', 'genres', 'director']             #combining-features\n",
    "for feature in features:\n",
    "    df[feature] = df[feature].fillna(' ')\n",
    "\n",
    "\n",
    "def combine_features(row):\n",
    "    return row['keywords'] +\" \"+ row['cast'] +\" \"+ row['genres'] +\" \"+ row['director']\n",
    "df[\"combined_features\"] = df.apply(combine_features,axis=1)\n",
    "df[\"combined_features\"].head()\n",
    "\n",
    "cv = CountVectorizer()\n",
    "count_matrix = cv.fit_transform(df[\"combined_features\"])            \n",
    "cosine_sim = cosine_similarity(count_matrix)\n",
    "\n",
    "movie_user_likes = \"Avatar\"                                         #main-item-for-which-suggestions-required\n",
    "movie_index = index_from_title(movie_user_likes)\n",
    "\n",
    "similar_movies = list(enumerate(cosine_sim[movie_index]))\n",
    "sorted_similar_movies = sorted(similar_movies, key=lambda x:x[1], reverse=True)\n",
    "\n",
    "i=0\n",
    "for movie in sorted_similar_movies:\n",
    "     print(title_from_index(movie[0]))                              #recommendations\n",
    "     i=i+1\n",
    "     if i>50:\n",
    "        break\n",
    "\n",
    "       \n",
    "      \n"
   ]
  }
 ]
}